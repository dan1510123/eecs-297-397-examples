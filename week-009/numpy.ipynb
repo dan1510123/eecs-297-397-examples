{
 "cells": [
  {
   "cell_type": "markdown",
   "metadata": {},
   "source": [
    "I have already installed numpy. Let's go ahead and import it."
   ]
  },
  {
   "cell_type": "code",
   "execution_count": 1,
   "metadata": {},
   "outputs": [],
   "source": [
    "import numpy as np"
   ]
  },
  {
   "cell_type": "code",
   "execution_count": 2,
   "metadata": {},
   "outputs": [
    {
     "data": {
      "text/plain": [
       "array([1, 2, 3])"
      ]
     },
     "execution_count": 2,
     "metadata": {},
     "output_type": "execute_result"
    }
   ],
   "source": [
    "rank_1_array = np.array([1, 2, 3])\n",
    "rank_1_array"
   ]
  },
  {
   "cell_type": "code",
   "execution_count": 3,
   "metadata": {},
   "outputs": [
    {
     "data": {
      "text/plain": [
       "array([[1, 2, 3],\n",
       "       [4, 5, 6]])"
      ]
     },
     "execution_count": 3,
     "metadata": {},
     "output_type": "execute_result"
    }
   ],
   "source": [
    "rank_2_array = np.array([[1, 2, 3], [4, 5, 6]])\n",
    "rank_2_array"
   ]
  },
  {
   "cell_type": "markdown",
   "metadata": {},
   "source": [
    "## Accessing Array Elements"
   ]
  },
  {
   "cell_type": "markdown",
   "metadata": {},
   "source": [
    "Can access elements in an array through a somewhat familiar syntax. Note the syntax for the multidimensional case:"
   ]
  },
  {
   "cell_type": "code",
   "execution_count": 4,
   "metadata": {},
   "outputs": [
    {
     "name": "stdout",
     "output_type": "stream",
     "text": [
      "1 2 3\n"
     ]
    }
   ],
   "source": [
    "print(rank_1_array[0], rank_1_array[1], rank_1_array[2])"
   ]
  },
  {
   "cell_type": "code",
   "execution_count": 5,
   "metadata": {},
   "outputs": [
    {
     "name": "stdout",
     "output_type": "stream",
     "text": [
      "1 6\n"
     ]
    }
   ],
   "source": [
    "print(rank_2_array[0, 0], rank_2_array[1, 2])"
   ]
  },
  {
   "cell_type": "markdown",
   "metadata": {},
   "source": [
    "Rank means the number of dimensions in an array. Shape is a tuple that gives the size of each dimension."
   ]
  },
  {
   "cell_type": "code",
   "execution_count": 6,
   "metadata": {},
   "outputs": [
    {
     "name": "stdout",
     "output_type": "stream",
     "text": [
      "(3,)\n",
      "(2, 3)\n"
     ]
    }
   ],
   "source": [
    "print(rank_1_array.shape)\n",
    "print(rank_2_array.shape)"
   ]
  },
  {
   "cell_type": "markdown",
   "metadata": {},
   "source": [
    "Numpy has utility methods for creating certain types of arrays:\n",
    "https://docs.scipy.org/doc/numpy/reference/routines.array-creation.html#routines-array-creation"
   ]
  },
  {
   "cell_type": "code",
   "execution_count": 7,
   "metadata": {},
   "outputs": [
    {
     "data": {
      "text/plain": [
       "array([[0., 0., 0., 0., 0., 0., 0., 0., 0.],\n",
       "       [0., 0., 0., 0., 0., 0., 0., 0., 0.],\n",
       "       [0., 0., 0., 0., 0., 0., 0., 0., 0.],\n",
       "       [0., 0., 0., 0., 0., 0., 0., 0., 0.]])"
      ]
     },
     "execution_count": 7,
     "metadata": {},
     "output_type": "execute_result"
    }
   ],
   "source": [
    "all_zeros = np.zeros((4, 9))\n",
    "all_zeros  # Contains floats by default"
   ]
  },
  {
   "cell_type": "code",
   "execution_count": 8,
   "metadata": {},
   "outputs": [
    {
     "data": {
      "text/plain": [
       "array([[1., 0., 0., 0., 0., 0., 0., 0., 0., 0.],\n",
       "       [0., 1., 0., 0., 0., 0., 0., 0., 0., 0.],\n",
       "       [0., 0., 1., 0., 0., 0., 0., 0., 0., 0.],\n",
       "       [0., 0., 0., 1., 0., 0., 0., 0., 0., 0.],\n",
       "       [0., 0., 0., 0., 1., 0., 0., 0., 0., 0.],\n",
       "       [0., 0., 0., 0., 0., 1., 0., 0., 0., 0.],\n",
       "       [0., 0., 0., 0., 0., 0., 1., 0., 0., 0.],\n",
       "       [0., 0., 0., 0., 0., 0., 0., 1., 0., 0.],\n",
       "       [0., 0., 0., 0., 0., 0., 0., 0., 1., 0.],\n",
       "       [0., 0., 0., 0., 0., 0., 0., 0., 0., 1.]])"
      ]
     },
     "execution_count": 8,
     "metadata": {},
     "output_type": "execute_result"
    }
   ],
   "source": [
    "np.identity(10)"
   ]
  },
  {
   "cell_type": "code",
   "execution_count": 9,
   "metadata": {},
   "outputs": [
    {
     "data": {
      "text/plain": [
       "array([[7, 7, 7, 7],\n",
       "       [7, 7, 7, 7],\n",
       "       [7, 7, 7, 7]])"
      ]
     },
     "execution_count": 9,
     "metadata": {},
     "output_type": "execute_result"
    }
   ],
   "source": [
    "np.full((3,4), 7)"
   ]
  },
  {
   "cell_type": "markdown",
   "metadata": {},
   "source": [
    "## Slicing Arrays"
   ]
  },
  {
   "cell_type": "markdown",
   "metadata": {},
   "source": [
    "You can slice arrays. Be careful though! Slices in numpy still reference the original value. Any changes in a slice will carry over to the original array."
   ]
  },
  {
   "cell_type": "code",
   "execution_count": 10,
   "metadata": {},
   "outputs": [
    {
     "name": "stdout",
     "output_type": "stream",
     "text": [
      "original:\n",
      "[[1. 0. 0. 0.]\n",
      " [0. 1. 0. 0.]\n",
      " [0. 0. 1. 0.]\n",
      " [0. 0. 0. 1.]]\n",
      "example:\n",
      "[[0. 0.]\n",
      " [1. 0.]]\n",
      "\n",
      "updated example:\n",
      "[[ 0. 99.]\n",
      " [ 1.  0.]]\n",
      "updated original:\n",
      "[[ 1.  0.  0.  0.]\n",
      " [ 0.  1.  0. 99.]\n",
      " [ 0.  0.  1.  0.]\n",
      " [ 0.  0.  0.  1.]]\n"
     ]
    }
   ],
   "source": [
    "original = np.identity(4)\n",
    "print(\"original:\", original, sep=\"\\n\")\n",
    "\n",
    "example_slice = original[1:3, 2:]\n",
    "print(\"example:\", example_slice, sep=\"\\n\")\n",
    "print()\n",
    "\n",
    "example_slice[0, 1] = 99\n",
    "print(\"updated example:\", example_slice, sep=\"\\n\")\n",
    "print(\"updated original:\", original, sep=\"\\n\")"
   ]
  },
  {
   "cell_type": "markdown",
   "metadata": {},
   "source": [
    "Using integers instead of slices is also possible"
   ]
  },
  {
   "cell_type": "code",
   "execution_count": 11,
   "metadata": {},
   "outputs": [
    {
     "name": "stdout",
     "output_type": "stream",
     "text": [
      "original:\n",
      "[[ 1  2  3  4]\n",
      " [ 5  6  7  8]\n",
      " [ 9 10 11 12]]\n",
      "integer_slice:\n",
      "[4 8]\n",
      "column_slice:\n",
      "[[4]\n",
      " [8]]\n"
     ]
    }
   ],
   "source": [
    "original = np.array([[1, 2, 3, 4], [5, 6, 7, 8], [9, 10, 11, 12]])\n",
    "print(\"original:\", original, sep=\"\\n\")\n",
    "\n",
    "integer_slice = original[0:2, 3]\n",
    "print(\"integer_slice:\", integer_slice, sep=\"\\n\")\n",
    "\n",
    "column_slice = original[0:2, 3:]\n",
    "print(\"column_slice:\", column_slice, sep=\"\\n\")"
   ]
  },
  {
   "cell_type": "markdown",
   "metadata": {},
   "source": [
    "Numpy can evaluate boolean conditions for you and create a boolean index."
   ]
  },
  {
   "cell_type": "code",
   "execution_count": 12,
   "metadata": {},
   "outputs": [
    {
     "name": "stdout",
     "output_type": "stream",
     "text": [
      "original:\n",
      "[[1 2 3]\n",
      " [5 8 9]]\n",
      "boolean:\n",
      "[[False  True False]\n",
      " [False  True False]]\n",
      "other_array:\n",
      "[[10 20 30]\n",
      " [40 50 60]]\n",
      "boolean index with other array:\n",
      "[20 50]\n"
     ]
    }
   ],
   "source": [
    "original = np.array([[1, 2, 3], [5, 8, 9]])\n",
    "print(\"original:\", original, sep=\"\\n\")\n",
    "\n",
    "boolean_index = (original %2 == 0)\n",
    "print(\"boolean:\", boolean_index, sep=\"\\n\")\n",
    "\n",
    "other_array = np.array([[10, 20, 30], [40, 50, 60]])\n",
    "print(\"other_array:\", other_array, sep=\"\\n\")\n",
    "\n",
    "print(\"boolean index with other array:\",\n",
    "      other_array[boolean_index],\n",
    "      sep=\"\\n\")"
   ]
  },
  {
   "cell_type": "markdown",
   "metadata": {},
   "source": [
    "Full details about slicing can be found in the documentation: https://docs.scipy.org/doc/numpy/reference/arrays.indexing.html"
   ]
  },
  {
   "cell_type": "markdown",
   "metadata": {},
   "source": [
    "## Data types"
   ]
  },
  {
   "cell_type": "markdown",
   "metadata": {},
   "source": [
    "Data types (dtype) in numpy are quite a bit different than types in Python. A dtype will describe exactly how a particular value is stored in memory.\n",
    "https://docs.scipy.org/doc/numpy/reference/arrays.dtypes.html\n",
    "\n",
    "For now, just know that dtype can be used to specify the type of data you want to store in an array. By default, we get float64, but we can specify something else."
   ]
  },
  {
   "cell_type": "code",
   "execution_count": 13,
   "metadata": {},
   "outputs": [
    {
     "name": "stdout",
     "output_type": "stream",
     "text": [
      "[[1. 0.]\n",
      " [0. 1.]]\n",
      "<class 'numpy.float64'>\n",
      "\n",
      "[[1 0]\n",
      " [0 1]]\n",
      "<class 'numpy.int32'>\n",
      "\n"
     ]
    }
   ],
   "source": [
    "float_array = np.identity(2)\n",
    "print(float_array)\n",
    "print(type(float_array[0, 0]))\n",
    "print()\n",
    "\n",
    "# Store 32 bit integers instead\n",
    "int_array = np.identity(2, dtype=np.int32)\n",
    "print(int_array)\n",
    "print(type(int_array[0, 0]))\n",
    "print()"
   ]
  },
  {
   "cell_type": "markdown",
   "metadata": {},
   "source": [
    "For now, don't worry about big-endian vs little-endian. Just know that it is possible to specify if you ever have to.\n",
    "https://en.wikipedia.org/wiki/Endianness"
   ]
  },
  {
   "cell_type": "markdown",
   "metadata": {},
   "source": [
    "## Array Math"
   ]
  },
  {
   "cell_type": "markdown",
   "metadata": {},
   "source": [
    "Can do basic math either with functions or with operators."
   ]
  },
  {
   "cell_type": "code",
   "execution_count": 14,
   "metadata": {},
   "outputs": [
    {
     "name": "stdout",
     "output_type": "stream",
     "text": [
      "[[6. 5. 5.]\n",
      " [5. 6. 5.]\n",
      " [5. 5. 6.]]\n",
      "\n",
      "[[4. 5. 5.]\n",
      " [5. 4. 5.]\n",
      " [5. 5. 4.]]\n",
      "\n",
      "[[5. 0. 0.]\n",
      " [0. 5. 0.]\n",
      " [0. 0. 5.]]\n",
      "\n",
      "[[0.2 0.  0. ]\n",
      " [0.  0.2 0. ]\n",
      " [0.  0.  0.2]]\n",
      "\n"
     ]
    }
   ],
   "source": [
    "identity = np.identity(3)\n",
    "other_array = np.full((3, 3), 5)\n",
    "\n",
    "print(other_array + identity, end=\"\\n\\n\")\n",
    "print(other_array - identity, end=\"\\n\\n\")\n",
    "print(other_array * identity, end=\"\\n\\n\")\n",
    "print(identity / other_array, end=\"\\n\\n\")"
   ]
  },
  {
   "cell_type": "code",
   "execution_count": 15,
   "metadata": {},
   "outputs": [
    {
     "name": "stdout",
     "output_type": "stream",
     "text": [
      "[[6. 5. 5.]\n",
      " [5. 6. 5.]\n",
      " [5. 5. 6.]]\n",
      "\n",
      "[[4. 5. 5.]\n",
      " [5. 4. 5.]\n",
      " [5. 5. 4.]]\n",
      "\n",
      "[[5. 0. 0.]\n",
      " [0. 5. 0.]\n",
      " [0. 0. 5.]]\n",
      "\n",
      "[[0.2 0.  0. ]\n",
      " [0.  0.2 0. ]\n",
      " [0.  0.  0.2]]\n",
      "\n"
     ]
    }
   ],
   "source": [
    "print(np.add(other_array, identity), end=\"\\n\\n\")\n",
    "print(np.subtract(other_array, identity), end=\"\\n\\n\")\n",
    "print(np.multiply(other_array, identity), end=\"\\n\\n\")\n",
    "print(np.divide(identity, other_array), end=\"\\n\\n\")"
   ]
  },
  {
   "cell_type": "markdown",
   "metadata": {},
   "source": [
    "If you need to perform inner products, use np.dot()."
   ]
  },
  {
   "cell_type": "code",
   "execution_count": 16,
   "metadata": {},
   "outputs": [
    {
     "name": "stdout",
     "output_type": "stream",
     "text": [
      "[32]\n",
      "[40 50 60]\n"
     ]
    }
   ],
   "source": [
    "array_1 = np.array([1, 2, 3])\n",
    "array_2 = np.array([[4], [5], [6]])\n",
    "array_3 = np.array([10])\n",
    "\n",
    "print(np.dot(array_1, array_2))\n",
    "print(np.dot(array_2, array_3))"
   ]
  },
  {
   "cell_type": "markdown",
   "metadata": {},
   "source": [
    "A matrix can be transposed with the T operator."
   ]
  },
  {
   "cell_type": "code",
   "execution_count": 17,
   "metadata": {},
   "outputs": [
    {
     "name": "stdout",
     "output_type": "stream",
     "text": [
      "[[4]\n",
      " [5]\n",
      " [6]]\n",
      "[[4 5 6]]\n"
     ]
    }
   ],
   "source": [
    "print(array_2)\n",
    "print(array_2.T)"
   ]
  },
  {
   "cell_type": "code",
   "execution_count": 18,
   "metadata": {},
   "outputs": [
    {
     "data": {
      "text/plain": [
       "array([[16, 20, 24],\n",
       "       [20, 25, 30],\n",
       "       [24, 30, 36]])"
      ]
     },
     "execution_count": 18,
     "metadata": {},
     "output_type": "execute_result"
    }
   ],
   "source": [
    "np.dot(array_2, array_2.T)"
   ]
  },
  {
   "cell_type": "markdown",
   "metadata": {},
   "source": [
    "## Broadcasting"
   ]
  },
  {
   "cell_type": "markdown",
   "metadata": {},
   "source": [
    "You can operate on arrays of different sizes, subject to numpy's broadcasting rules. See the documentation for an explanation. https://docs.scipy.org/doc/numpy/user/basics.broadcasting.html"
   ]
  },
  {
   "cell_type": "code",
   "execution_count": 19,
   "metadata": {},
   "outputs": [
    {
     "name": "stdout",
     "output_type": "stream",
     "text": [
      "[[ 2  2  4]\n",
      " [ 5  5  7]\n",
      " [ 8  8 10]\n",
      " [11 11 13]]\n"
     ]
    }
   ],
   "source": [
    "x = np.array([[1,2,3], [4,5,6], [7,8,9], [10, 11, 12]])\n",
    "v = np.array([1, 0, 1])\n",
    "y = x + v  \n",
    "print(y)"
   ]
  }
 ],
 "metadata": {
  "kernelspec": {
   "display_name": "Python 3",
   "language": "python",
   "name": "python3"
  },
  "language_info": {
   "codemirror_mode": {
    "name": "ipython",
    "version": 3
   },
   "file_extension": ".py",
   "mimetype": "text/x-python",
   "name": "python",
   "nbconvert_exporter": "python",
   "pygments_lexer": "ipython3",
   "version": "3.7.4"
  }
 },
 "nbformat": 4,
 "nbformat_minor": 2
}
